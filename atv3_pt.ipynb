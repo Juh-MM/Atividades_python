{
 "cells": [
  {
   "cell_type": "code",
   "execution_count": 84,
   "metadata": {},
   "outputs": [],
   "source": [
    "numero1 = int(input(\"Diga um número inteiro:\"))\n",
    "numero2 = int(input(\"Diga outro número inteiro:\"))\n",
    "numero3 = float(input(\"Agora diga um número real:\"))"
   ]
  },
  {
   "cell_type": "code",
   "execution_count": null,
   "metadata": {},
   "outputs": [],
   "source": [
    "print(numero1, numero2, numero3)"
   ]
  },
  {
   "cell_type": "code",
   "execution_count": 98,
   "metadata": {},
   "outputs": [
    {
     "data": {
      "text/plain": [
       "8.0"
      ]
     },
     "execution_count": 98,
     "metadata": {},
     "output_type": "execute_result"
    }
   ],
   "source": [
    "(numero1 * 2 )*(numero2 / 2 )"
   ]
  },
  {
   "cell_type": "code",
   "execution_count": 90,
   "metadata": {},
   "outputs": [
    {
     "data": {
      "text/plain": [
       "(7.5, 3.375)"
      ]
     },
     "execution_count": 90,
     "metadata": {},
     "output_type": "execute_result"
    }
   ],
   "source": [
    "(numero1 * 3) + numero3 , numero3 ** 3"
   ]
  },
  {
   "cell_type": "code",
   "execution_count": 96,
   "metadata": {},
   "outputs": [
    {
     "name": "stdout",
     "output_type": "stream",
     "text": [
      "o primeiro número é maior\n"
     ]
    }
   ],
   "source": [
    "numero_1 = float(input(\"Digite um número:\"))\n",
    "numero_2 = float(input(\"Digite outro numero:\"))\n",
    "if numero_1 > numero_2:\n",
    "  print(numero_1, \"é maior\")\n",
    "else:\n",
    "  print(numero_2, \"é maior\")"
   ]
  },
  {
   "cell_type": "code",
   "execution_count": 113,
   "metadata": {},
   "outputs": [
    {
     "name": "stdout",
     "output_type": "stream",
     "text": [
      "O número é impar\n"
     ]
    }
   ],
   "source": [
    "a = float(input(\"Diga um número:\"))\n",
    "if (a >= 0):\n",
    "    print(a, \"é positivo\")\n",
    "else:\n",
    "    print(a,\"é negativo\")"
   ]
  },
  {
   "cell_type": "code",
   "execution_count": null,
   "metadata": {},
   "outputs": [],
   "source": [
    "n1 = float(input(\"primeira nota:\"))\n",
    "n2 = float(input(\"segunda nota:\"))\n",
    "media = (n1 + n2)/2\n",
    "if (media >= 7):\n",
    "    print(\"Aprovado\", media)\n",
    "else:\n",
    "    print(\"Reprovado\", media)"
   ]
  },
  {
   "cell_type": "code",
   "execution_count": null,
   "metadata": {},
   "outputs": [],
   "source": [
    "x = float(input(\"Diga um número:\"))\n",
    "y = float(input(\"Diga mais um número:\"))\n",
    "z = float(input(\"Diga outro número:\"))\n",
    "maior = max(x, y, z)\n",
    "print(maior, \"é o maior número\")"
   ]
  }
 ],
 "metadata": {
  "kernelspec": {
   "display_name": "Python 3",
   "language": "python",
   "name": "python3"
  },
  "language_info": {
   "codemirror_mode": {
    "name": "ipython",
    "version": 3
   },
   "file_extension": ".py",
   "mimetype": "text/x-python",
   "name": "python",
   "nbconvert_exporter": "python",
   "pygments_lexer": "ipython3",
   "version": "3.12.2"
  }
 },
 "nbformat": 4,
 "nbformat_minor": 2
}
