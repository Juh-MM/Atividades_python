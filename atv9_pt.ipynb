{
 "cells": [
  {
   "cell_type": "code",
   "execution_count": null,
   "metadata": {},
   "outputs": [],
   "source": [
    "def funcaoLeitura():\n",
    "    for i in range(5):\n",
    "        print(\"Numero \", i)\n",
    "\n",
    "funcaoLeitura()"
   ]
  },
  {
   "cell_type": "code",
   "execution_count": null,
   "metadata": {},
   "outputs": [],
   "source": [
    "#funçao para somar dois numeros\n",
    "def addNum(n1, n2):\n",
    "    print(\"O primeiro numero é: \", n1)\n",
    "    print(\"O segundo numero é: \", n2)\n",
    "    print(\"A soma dos numero é: \", n1 + n2)"
   ]
  },
  {
   "cell_type": "code",
   "execution_count": null,
   "metadata": {},
   "outputs": [],
   "source": [
    "addNum(2, 3)"
   ]
  },
  {
   "cell_type": "code",
   "execution_count": null,
   "metadata": {},
   "outputs": [],
   "source": [
    "addNum(4, 5)"
   ]
  },
  {
   "cell_type": "code",
   "execution_count": null,
   "metadata": {},
   "outputs": [],
   "source": [
    "varGlobal = 10 #essa é ema variavel global\n",
    "def multiplicacao(num1 , num2):\n",
    "    varGlobal = (num1 * num2) #essa é uma variavel local\n",
    "    print(\"varialvel da função multiplica: \", varGlobal)\n",
    "\n",
    "multiplicacao(5, 4)"
   ]
  },
  {
   "cell_type": "code",
   "execution_count": null,
   "metadata": {},
   "outputs": [],
   "source": [
    "varGlobal = 10 #essa é ema variavel global\n",
    "def multiplicacao(num1 , num2):\n",
    "    varLocal = (num1 * num2) #essa é uma variavel local\n",
    "    print(\"varialvel da função multiplica: \", varLocal)\n",
    "  \n",
    "multiplicacao(5, 6)"
   ]
  },
  {
   "cell_type": "code",
   "execution_count": null,
   "metadata": {},
   "outputs": [],
   "source": [
    "def funcaoLeitura():\n",
    "    for um in [1,2,3,4,5]:\n",
    "        print(\"Número \", um)\n"
   ]
  },
  {
   "cell_type": "code",
   "execution_count": null,
   "metadata": {},
   "outputs": [],
   "source": [
    "def funcaoLeitura():\n",
    "    for i in range(5):\n",
    "        print(\"numero \", i)"
   ]
  },
  {
   "cell_type": "code",
   "execution_count": null,
   "metadata": {},
   "outputs": [],
   "source": [
    "funcaoLeitura()"
   ]
  },
  {
   "cell_type": "code",
   "execution_count": null,
   "metadata": {},
   "outputs": [],
   "source": [
    "def separarTexto(texto):\n",
    "    return texto.split()\n",
    "\n",
    "separarTexto(\"Cibele maria Suely\")"
   ]
  },
  {
   "cell_type": "code",
   "execution_count": null,
   "metadata": {},
   "outputs": [],
   "source": [
    "#quando nao sabemos a qunatidade de parametro basta usar o *\n",
    "def variosParametros(*parametros):\n",
    "    for n, item in enumerate(parametros):\n",
    "        print(\"Parametro\", n, item)\n",
    "    return;"
   ]
  },
  {
   "cell_type": "code",
   "execution_count": null,
   "metadata": {},
   "outputs": [],
   "source": [
    "variosParametros(\"cibele\",\"suely\", \"fulana\",\"ciclana\")"
   ]
  },
  {
   "cell_type": "code",
   "execution_count": null,
   "metadata": {},
   "outputs": [],
   "source": [
    "#calculadora\n",
    "\n",
    "def soma(n1,n2):\n",
    "    return n1+n2\n",
    "\n",
    "def subtrai(n1,n2):\n",
    "    return n1-n2\n",
    "\n",
    "def multiplica(n1,n2):\n",
    "    return n1*n2\n",
    "\n",
    "def divide(n1,n2):\n",
    "    return n1/n2"
   ]
  },
  {
   "cell_type": "code",
   "execution_count": null,
   "metadata": {},
   "outputs": [],
   "source": [
    "while True:\n",
    "    print(\"+======================+\")\n",
    "    print(\"|   Menu de operações  |\")\n",
    "    print(\"| 1 - somar            |\")\n",
    "    print(\"| 2 - subtrair         |\")\n",
    "    print(\"| 3 - multiplicar      |\")\n",
    "    print(\"| 4 - dividir          |\")\n",
    "    print(\"| o - sair             |\")\n",
    "    print(\"+======================+\")\n",
    "\n",
    "    op = int(input())\n",
    "    if op==0:\n",
    "        break\n",
    "\n",
    "    n1 = int(input(\"Primeiro número: \"))\n",
    "    n2 = int(input(\"Segundo número: \"))\n",
    "\n",
    "    if op==1:\n",
    "        print(\"O resultado é: \", soma(n1,n2))\n",
    "        break\n",
    "    elif op==2:\n",
    "        print(\"O resultado é: \", subtrai(n1,n2)) \n",
    "        break\n",
    "    elif op==3:\n",
    "        print(\"O resultado é: \", multiplica(n1,n2))\n",
    "        break\n",
    "    elif op==4:\n",
    "        print(\"O resultado é: \", divide(n1,n2))   \n",
    "        break"
   ]
  }
 ],
 "metadata": {
  "language_info": {
   "name": "python"
  }
 },
 "nbformat": 4,
 "nbformat_minor": 2
}
