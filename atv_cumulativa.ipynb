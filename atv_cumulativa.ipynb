{
 "cells": [
  {
   "cell_type": "code",
   "execution_count": 4,
   "metadata": {},
   "outputs": [
    {
     "name": "stdout",
     "output_type": "stream",
     "text": [
      "essa letra é uma consoante!\n"
     ]
    }
   ],
   "source": [
    "#1\n",
    "letra = input(\"Digite uma letra:\")\n",
    "vogais = 'a,e,i,o,u,A,E,I,O,U'\n",
    "if letra in vogais:\n",
    "   print(\"essa letra é uma vogal!\")\n",
    "else:\n",
    "   print(\"essa letra é uma consoante!\")"
   ]
  },
  {
   "cell_type": "code",
   "execution_count": 24,
   "metadata": {},
   "outputs": [
    {
     "name": "stdout",
     "output_type": "stream",
     "text": [
      "Voce deveria comprar o de 7.0 reais\n"
     ]
    }
   ],
   "source": [
    "#2\n",
    "preço1 = float(input(\"qual o preço do produto A?\"))\n",
    "preço2 = float(input(\"qual o preço do produto B?\"))\n",
    "preço3 = float(input(\"qual o preço do produto C?\"))\n",
    "menor = min(preço1, preço2, preço3)\n",
    "print(\"Voce deveria comprar o de\", menor, \"reais\" )\n"
   ]
  },
  {
   "cell_type": "code",
   "execution_count": null,
   "metadata": {},
   "outputs": [],
   "source": [
    "# 1=2=3\n",
    "# 1>2>3\n",
    "# 1>3>2\n",
    "# 2>1>3\n",
    "# 2>3>1\n",
    "# 3>1>2\n",
    "# 3>2>1"
   ]
  },
  {
   "cell_type": "code",
   "execution_count": 12,
   "metadata": {},
   "outputs": [
    {
     "name": "stdout",
     "output_type": "stream",
     "text": [
      "numeros iguais\n"
     ]
    }
   ],
   "source": [
    "#3\n",
    "n1 = float(input(\"Diga um numero\"))\n",
    "n2 = float(input(\"Diga um numero\"))\n",
    "n3 = float(input(\"Diga um numero\"))\n",
    "if (n1==n2) or (n1==n3) or (n2==n3):\n",
    "    print(\"numeros iguais\")\n",
    "elif(n1>n2>n3):\n",
    "    print(n1, n2, n3)\n",
    "elif(n1>n3>n2):\n",
    "    print(n1, n3 ,n2)\n",
    "elif(n2>n1>n3):\n",
    "    print(n2,n1, n3)\n",
    "elif(n2>n3>n1):\n",
    "    print(n2, n3,n1)\n",
    "elif(n3>n2>n1):\n",
    "    print(n3, n2, n1)\n",
    "else:\n",
    "    print(n3, n1, n2)\n"
   ]
  },
  {
   "cell_type": "code",
   "execution_count": 6,
   "metadata": {},
   "outputs": [
    {
     "name": "stdout",
     "output_type": "stream",
     "text": [
      "Valor inválido!\n"
     ]
    }
   ],
   "source": [
    "#4\n",
    "turno = input(\"Em qual turno voce estuda? M-matiurno, V-vespertino ou N-noturno: \")\n",
    "if turno == \"M\":\n",
    "    print(\"Bom dia!\")\n",
    "elif turno == \"V\":\n",
    "    print(\"Boa tarde!\")\n",
    "elif turno == \"N\":\n",
    "    print(\"Boa noite!\")\n",
    "else:\n",
    "    print(\"Valor inválido!\")"
   ]
  },
  {
   "cell_type": "code",
   "execution_count": 15,
   "metadata": {},
   "outputs": [
    {
     "name": "stdout",
     "output_type": "stream",
     "text": [
      "esse numero corresponde á domingo!\n"
     ]
    }
   ],
   "source": [
    "#5\n",
    "dia = input(\"me diga um numero entre 1 á 7:\")\n",
    "if dia == \"1\":\n",
    "    print(\"esse numero corresponde á domingo!\")\n",
    "elif dia == \"2\":\n",
    "    print(\"esse numero corresponde á segunda-feira!\")\n",
    "elif dia == \"3\":\n",
    "    print(\"esse numero corresponde á terça-feira!\")\n",
    "elif dia == \"4\":\n",
    "    print(\"esse numero corresponde á quarta-feira!\")\n",
    "elif dia == \"5\":\n",
    "    print(\"esse numero corresponde á quinta-feira!\")\n",
    "elif dia == \"6\":\n",
    "    print(\"esse numero corresponde á sexta-feira!\")\n",
    "elif dia == \"7\":\n",
    "    print(\"esse numero corresponde á sábado!\")\n",
    "else:\n",
    "    print(\"Numero inválido!\")"
   ]
  },
  {
   "cell_type": "code",
   "execution_count": 21,
   "metadata": {},
   "outputs": [
    {
     "name": "stdout",
     "output_type": "stream",
     "text": [
      "Reprovado! com suas notas 2.0 e 2.0 sua media foi 2.0 conceito E\n"
     ]
    }
   ],
   "source": [
    "#6\n",
    "N1 = float(input(\"qual foi a sua primeira nota?\"))\n",
    "N2 = float(input(\"qual foi a sua segunda nota?\"))\n",
    "media = (N1 + N2)/2\n",
    "if media >= 9 :\n",
    "  print(\"Aprovado! com suas notas\", N1,\"e\", N2, \"sua media foi\", media, \"conceito A\")\n",
    "elif media >=7.5 <9 :\n",
    "  print(\"Aprovado! com suas notas\", N1,\"e\", N2, \"sua media foi\", media, \"conceito B\")\n",
    "elif media >=6 <7.5 :\n",
    "  print(\"Aprovado! com suas notas\", N1,\"e\", N2, \"sua media foi\", media, \"conceito C\")\n",
    "elif media >=4 <6 :\n",
    "  print(\"Reprovado! com suas notas\", N1,\"e\", N2, \"sua media foi\", media, \"conceito D\")\n",
    "elif media >=0 <4 :\n",
    "  print(\"Reprovado! com suas notas\", N1,\"e\", N2, \"sua media foi\", media, \"conceito E\")\n",
    "else:\n",
    "  print(\"Valor inválido!\")\n"
   ]
  },
  {
   "cell_type": "code",
   "execution_count": 24,
   "metadata": {},
   "outputs": [
    {
     "name": "stdout",
     "output_type": "stream",
     "text": [
      "Ano não bissexto\n"
     ]
    }
   ],
   "source": [
    "#7\n",
    "ano = int(input(\"Diga um ano:\"))\n",
    "if  ano%4 == 0 and ano%100 !=0 or ano%400 ==0 :\n",
    "    print(\"Ano bissexto\")\n",
    "else:\n",
    "    print(\"Ano não bissexto\")"
   ]
  },
  {
   "cell_type": "code",
   "execution_count": 53,
   "metadata": {},
   "outputs": [
    {
     "name": "stdout",
     "output_type": "stream",
     "text": [
      "1.0\n",
      "impar\n",
      "positivo\n",
      "inteiro\n"
     ]
    }
   ],
   "source": [
    "#8\n",
    "A = float(input(\"Diga um numero:\"))\n",
    "B = float(input(\"Diga mais um numero:\"))\n",
    "operacao = input(\"Qual operação basica deseja realizar? soma, subtração, divisão, multiplicação ou exponenciação?\")\n",
    "#matemaita\n",
    "if operacao == \"soma\":\n",
    "  resultado = A + B\n",
    "  print(resultado) \n",
    "  if resultado % 2 == 0 :  #divisivel por 2\n",
    "    print(\"par\")\n",
    "  else:\n",
    "    print(\"impar\")\n",
    "  if resultado >= 0:       #maior que 0\n",
    "      print(\"positivo\")\n",
    "  else:\n",
    "      print(\"negativo\")\n",
    "  if resultado % 1 == 0 :   #int ou decimal\n",
    "    print(\"inteiro\")\n",
    "  else:\n",
    "    print(\"decimal\")\n",
    "\n",
    "elif operacao == \"multiplicação\":\n",
    "  resultado = A * B\n",
    "  print(resultado) \n",
    "  if resultado % 2 == 0 :\n",
    "    print(\"par\")\n",
    "  else:\n",
    "    print(\"impar\")\n",
    "  if resultado >= 0:\n",
    "      print(\"positivo\")\n",
    "  else:\n",
    "      print(\"negativo\")\n",
    "  if resultado % 1 == 0 :\n",
    "    print(\"inteiro\")\n",
    "  else:\n",
    "    print(\"decimal\")\n",
    "\n",
    "\n",
    "elif operacao == \"subtração\":\n",
    "  resultado = A - B\n",
    "  print(resultado) \n",
    "  if resultado % 2 == 0 :\n",
    "    print(\"par\")\n",
    "  else:\n",
    "    print(\"impar\")\n",
    "  if resultado >= 0:\n",
    "      print(\"positivo\")\n",
    "  else:\n",
    "      print(\"negativo\")\n",
    "  if resultado % 1 == 0 :\n",
    "    print(\"inteiro\")\n",
    "  else:\n",
    "    print(\"decimal\")\n",
    "\n",
    "\n",
    "elif operacao == \"divisão\":\n",
    "  resultado = A / B\n",
    "  print(resultado) \n",
    "  if resultado % 2 == 0 :\n",
    "    print(\"par\")\n",
    "  else:\n",
    "    print(\"impar\")\n",
    "  if resultado >= 0:\n",
    "      print(\"positivo\")\n",
    "  else:\n",
    "      print(\"negativo\")\n",
    "  if resultado % 1 == 0 :\n",
    "    print(\"inteiro\")\n",
    "  else:\n",
    "    print(\"decimal\")\n",
    "\n",
    "elif operacao == \"exponenciação\":\n",
    "  resultado = A ** B\n",
    "  print(resultado) \n",
    "  if resultado % 2 == 0 :\n",
    "    print(\"par\")\n",
    "  else:\n",
    "    print(\"impar\")\n",
    "  if resultado >= 0:\n",
    "      print(\"positivo\")\n",
    "  else:\n",
    "      print(\"negativo\")\n",
    "  if resultado % 1 == 0 :\n",
    "    print(\"inteiro\")\n",
    "  else:\n",
    "    print(\"decimal\")\n",
    "\n",
    "else:\n",
    "  print(\"Inválido\") "
   ]
  },
  {
   "cell_type": "code",
   "execution_count": null,
   "metadata": {},
   "outputs": [],
   "source": [
    "#9\n",
    "idade = int(input(\"Qual a sua idade?\"))\n",
    "if idade >=0 and idade <=150 :\n",
    "  print(\"idade válida\")\n",
    "else: \n",
    "  print(\"idade inválida\")"
   ]
  },
  {
   "cell_type": "code",
   "execution_count": null,
   "metadata": {},
   "outputs": [],
   "source": [
    "#10 \n",
    "a = float(input(\"Informe um numero:\"))\n",
    "b = float(input(\"Informe um numero:\"))\n",
    "c = float(input(\"Informe um numero:\"))\n",
    "d = float(input(\"Informe um numero:\"))\n",
    "e = float(input(\"Informe um numero:\"))\n",
    "soma = a+b+c+d+e\n",
    "media = (a+b+c+d+e)/5\n",
    "print(\"a soma dos numeros é\", soma,\"e a média é\", media)"
   ]
  },
  {
   "cell_type": "code",
   "execution_count": 82,
   "metadata": {},
   "outputs": [
    {
     "ename": "SyntaxError",
     "evalue": "expected ':' (1427455814.py, line 5)",
     "output_type": "error",
     "traceback": [
      "\u001b[1;36m  Cell \u001b[1;32mIn[82], line 5\u001b[1;36m\u001b[0m\n\u001b[1;33m    for i in range(2, int(numero**0.5) + 1)\u001b[0m\n\u001b[1;37m                                           ^\u001b[0m\n\u001b[1;31mSyntaxError\u001b[0m\u001b[1;31m:\u001b[0m expected ':'\n"
     ]
    }
   ],
   "source": [
    "#11  numero primo  -maior que 1- -so se divide por 1 e ele mesmo-\n",
    "#errado\n",
    "numero = int(input(\"Escolha um numero:\"))\n",
    "if numero <= 1:\n",
    "    print(numero, \"não é primo\")\n",
    "    for i in range(2, int(numero**0.5) + 1):\n",
    "    if numero % i == 0:\n",
    "else :\n",
    "    print(numero, \"é primo\")"
   ]
  },
  {
   "cell_type": "code",
   "execution_count": 77,
   "metadata": {},
   "outputs": [
    {
     "name": "stdout",
     "output_type": "stream",
     "text": [
      "30 não é um número primo.\n"
     ]
    }
   ],
   "source": [
    "#11  \n",
    "def eh_primo(numero):\n",
    "    if numero <= 1:\n",
    "        return False\n",
    "    for i in range(2, int(numero**0.5) + 1):\n",
    "        if numero % i == 0:\n",
    "            return False\n",
    "    return True\n",
    "numero = int(input(\"Digite um número: \"))\n",
    "if eh_primo(numero):\n",
    "    print(numero, \"é um número primo.\")\n",
    "else:\n",
    "    print(numero, \"não é um número primo.\")\n"
   ]
  },
  {
   "cell_type": "code",
   "execution_count": null,
   "metadata": {},
   "outputs": [],
   "source": [
    "#12 temperatura  a maior e a menor + meia\n",
    "t1 = int(input(\"informe uma temperatura?:\"))\n",
    "t2 = int(input(\"informe uma temperatura?:\"))\n",
    "t3 = int(input(\"informe uma temperatura?:\"))\n",
    "t4 = int(input(\"informe uma temperatura?:\"))\n",
    "t5 = int(input(\"informe uma temperatura?:\"))\n",
    "maior = max(t1,t2,t3,t4,t5)\n",
    "menor = min(t1,t2,t3,t4,t5)\n",
    "media = (t1+t2+t3+t4+t5)/5\n",
    "print(\"A maior temperatura é\", maior, \"e a menor temperatura é\", menor,\"a media é\", media)"
   ]
  },
  {
   "cell_type": "code",
   "execution_count": null,
   "metadata": {},
   "outputs": [],
   "source": [
    "#13\n",
    "saldo = int(input(\"qual o seu saldo médio no último ano?\"))\n",
    "if saldo>=0 and saldo<=200:\n",
    "    print(\"nenhum crédito\")\n",
    "elif saldo>=201 and saldo<=400:\n",
    "    credito = saldo*0.2\n",
    "    print(\"seu crédito é de\", credito,\"ou seja 20% do saldo médio\")\n",
    "\n",
    "elif saldo>=401 and saldo<=600:\n",
    "    credito = saldo*0.3\n",
    "    print(\"seu crédito é de\", credito,\"ou seja 30% do saldo médio\")\n",
    "\n",
    "elif saldo>=601:\n",
    "    credito = saldo*0.4\n",
    "    print(\"seu crédito é de\", credito,\"ou seja 40% do saldo médio\")\n",
    "    \n",
    "else:\n",
    "    print(\"valor inválido\")"
   ]
  },
  {
   "cell_type": "code",
   "execution_count": null,
   "metadata": {},
   "outputs": [],
   "source": [
    "#14  podem se aposentar aos 65 anos\n",
    "nome = input(\"Qual o seu nome:\")\n",
    "idade = int(input(\"Qual a sua idade?\"))\n",
    "tempo_aposentar = 65 - idade\n",
    "ano_aposentar = 2024 + tempo_aposentar\n",
    "print(nome, \"voce ira se aposentar no ano de\", ano_aposentar)"
   ]
  },
  {
   "cell_type": "code",
   "execution_count": 105,
   "metadata": {},
   "outputs": [
    {
     "name": "stdout",
     "output_type": "stream",
     "text": [
      "450.0 de imposto de renda, 90.0 descontados para o sindicato, e 330.0 para o FGTS. Seu salário liquido é 2460.0\n"
     ]
    }
   ],
   "source": [
    "#15 imposto\n",
    "valor_hora = float(input(\"Qual o valor da sua hora?\"))\n",
    "horas = float(input(\"Quantas horas voce trabalha no mes?\"))\n",
    "salario_bruto = valor_hora * horas \n",
    "sindicato = salario_bruto * 0.03\n",
    "fgts = salario_bruto * 0.11\n",
    "if salario_bruto <= 2112.00:\n",
    "    ir = 0\n",
    "    liquido = salario_bruto - sindicato - ir\n",
    "    print(\"isento de imposto de renda,\", sindicato, \"descontados para o sindicato, e\", fgts ,\"para o FGTS. Seu salário liquido é\", liquido)\n",
    "elif salario_bruto >= 2112.01 and salario_bruto <= 2826.65:\n",
    "    ir = 0.075*salario_bruto\n",
    "    liquido = salario_bruto - sindicato - ir\n",
    "    print(ir ,\"de imposto de renda,\", sindicato, \"descontados para o sindicato, e\", fgts ,\"para o FGTS. Seu salário liquido é\", liquido)\n",
    "elif salario_bruto >= 2826.66 and salario_bruto <= 3751.05:\n",
    "    ir = 0.15*salario_bruto\n",
    "    liquido = salario_bruto - sindicato - ir\n",
    "    print(ir ,\"de imposto de renda,\", sindicato, \"descontados para o sindicato, e\", fgts ,\"para o FGTS. Seu salário liquido é\", liquido)\n",
    "elif salario_bruto >= 3751.06 and salario_bruto <= 4664.68:\n",
    "    ir = 0.225*salario_bruto\n",
    "    liquido = salario_bruto - sindicato - ir\n",
    "    print(ir ,\"de imposto de renda,\", sindicato, \"descontados para o sindicato, e\", fgts ,\"para o FGTS. Seu salário liquido é\", liquido)\n",
    "elif salario_bruto >= 4664.68:\n",
    "    ir = 0.275*salario_bruto\n",
    "    liquido = salario_bruto - sindicato - ir\n",
    "    print(ir ,\"de imposto de renda,\", sindicato, \"descontados para o sindicato, e\", fgts ,\"para o FGTS. Seu salário liquido é\", liquido)\n",
    "else:\n",
    "    print(\"inválido\")\n",
    "\n",
    "# 3% do druto sindicato\n",
    "# 11% do bruto fgts\n",
    "#imposto\n",
    "#2112,00  isento\n",
    "#2112,01 a 2826,65 7,5%\n",
    "#2826,66 a 3751,05 15%\n",
    "#3751.06 a 4664,68 22.5%\n",
    "#4664,68  27.5%"
   ]
  }
 ],
 "metadata": {
  "kernelspec": {
   "display_name": "Python 3",
   "language": "python",
   "name": "python3"
  },
  "language_info": {
   "codemirror_mode": {
    "name": "ipython",
    "version": 3
   },
   "file_extension": ".py",
   "mimetype": "text/x-python",
   "name": "python",
   "nbconvert_exporter": "python",
   "pygments_lexer": "ipython3",
   "version": "3.12.2"
  }
 },
 "nbformat": 4,
 "nbformat_minor": 2
}
