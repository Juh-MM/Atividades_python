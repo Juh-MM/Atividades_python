{
 "cells": [
  {
   "cell_type": "code",
   "execution_count": 21,
   "metadata": {},
   "outputs": [
    {
     "name": "stdout",
     "output_type": "stream",
     "text": [
      "idade inválida\n"
     ]
    }
   ],
   "source": [
    "#9\n",
    "idade = int(input(\"Qual a sua idade?\"))\n",
    "if idade >=0 and idade <=150 :\n",
    "  print(\"idade válida\")\n",
    "else: \n",
    "  print(\"idade inválida\")"
   ]
  },
  {
   "cell_type": "code",
   "execution_count": 2,
   "metadata": {},
   "outputs": [
    {
     "name": "stdout",
     "output_type": "stream",
     "text": [
      "a soma dos numeros é 20.0 e a média é 4.0\n"
     ]
    }
   ],
   "source": [
    "#10 fazer loop\n",
    "a = float(input(\"Informe um numero:\"))\n",
    "b = float(input(\"Informe um numero:\"))\n",
    "c = float(input(\"Informe um numero:\"))\n",
    "d = float(input(\"Informe um numero:\"))\n",
    "e = float(input(\"Informe um numero:\"))\n",
    "soma = a+b+c+d+e\n",
    "media = (a+b+c+d+e)/5\n",
    "print(\"a soma dos numeros é\", soma,\"e a média é\", media)"
   ]
  },
  {
   "cell_type": "code",
   "execution_count": null,
   "metadata": {},
   "outputs": [],
   "source": [
    "#11  numero primo\n",
    "numero = int(input(\"Escolha um numero:\"))\n",
    "if numero/numero "
   ]
  },
  {
   "cell_type": "code",
   "execution_count": 29,
   "metadata": {},
   "outputs": [
    {
     "name": "stdout",
     "output_type": "stream",
     "text": [
      "A maior temperatura é 6 e a menor temperatura é 2 .A meia é 4.0\n"
     ]
    }
   ],
   "source": [
    "#12 temperatura  a maior e a menor + meia\n",
    "t1 = int(input(\"informe uma temperatura?:\"))\n",
    "t2 = int(input(\"informe uma temperatura?:\"))\n",
    "t3 = int(input(\"informe uma temperatura?:\"))\n",
    "t4 = int(input(\"informe uma temperatura?:\"))\n",
    "t5 = int(input(\"informe uma temperatura?:\"))\n",
    "maior = max(t1,t2,t3,t4,t5)\n",
    "menor = min(t1,t2,t3,t4,t5)\n",
    "media = (t1+t2+t3+t4+t5)/5\n",
    "print(\"A maior temperatura é\", maior, \"e a menor temperatura é\", menor,\"a media é\", media)\n"
   ]
  },
  {
   "cell_type": "code",
   "execution_count": 44,
   "metadata": {},
   "outputs": [
    {
     "name": "stdout",
     "output_type": "stream",
     "text": [
      "seu crédito é de 280.0 ou seja 40% do saldo médio\n"
     ]
    }
   ],
   "source": [
    "#13\n",
    "saldo = int(input(\"qual o seu saldo médio no último ano?\"))\n",
    "if saldo>=0 and saldo<=200:\n",
    "    print(\"nenhum crédito\")\n",
    "elif saldo>=201 and saldo<=400:\n",
    "    credito = saldo*0.2\n",
    "    print(\"seu crédito é de\", credito,\"ou seja 20% do saldo médio\")\n",
    "\n",
    "elif saldo>=401 and saldo<=600:\n",
    "    credito = saldo*0.3\n",
    "    print(\"seu crédito é de\", credito,\"ou seja 30% do saldo médio\")\n",
    "\n",
    "elif saldo>=601:\n",
    "    credito = saldo*0.4\n",
    "    print(\"seu crédito é de\", credito,\"ou seja 40% do saldo médio\")\n",
    "    \n",
    "else:\n",
    "    print(\"valor inválido\")"
   ]
  },
  {
   "cell_type": "code",
   "execution_count": 46,
   "metadata": {},
   "outputs": [
    {
     "name": "stdout",
     "output_type": "stream",
     "text": [
      "ju voce ira se aposentar no ano de 2025\n"
     ]
    }
   ],
   "source": [
    "#14  podem se aposentar aos 65 anos\n",
    "nome = input(\"Qual o seu nome:\")\n",
    "idade = int(input(\"Qual a sua idade?\"))\n",
    "tempo_aposentar = 65 - idade\n",
    "ano_aposentar = 2024 + tempo_aposentar\n",
    "print(nome, \"voce ira se aposentar no ano de\", ano_aposentar)"
   ]
  },
  {
   "cell_type": "code",
   "execution_count": null,
   "metadata": {},
   "outputs": [],
   "source": [
    "#15 imposto\n",
    "valor_hora = float(input(\"Qual o valor da sua hora?\"))\n",
    "horas = float(input(\"Quantas horas voce trabalha no mes?\"))\n",
    "salario_bruto = valor_hora * horas\n",
    "#2112,00  isento\n",
    "#2112,01 a 2826,65 7,5%\n",
    "#2826,66 a 3751,05 15%\n",
    "#3751.06 a 4664,68 22.5%\n",
    "#4664,68  27.5%"
   ]
  }
 ],
 "metadata": {
  "kernelspec": {
   "display_name": "Python 3",
   "language": "python",
   "name": "python3"
  },
  "language_info": {
   "codemirror_mode": {
    "name": "ipython",
    "version": 3
   },
   "file_extension": ".py",
   "mimetype": "text/x-python",
   "name": "python",
   "nbconvert_exporter": "python",
   "pygments_lexer": "ipython3",
   "version": "3.11.5"
  }
 },
 "nbformat": 4,
 "nbformat_minor": 2
}
