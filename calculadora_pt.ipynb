{
 "cells": [
  {
   "cell_type": "code",
   "execution_count": 1,
   "metadata": {},
   "outputs": [],
   "source": [
    "#calculadora\n",
    "\n",
    "def soma(n1,n2):\n",
    "    return n1+n2\n",
    "\n",
    "def subtrai(n1,n2):\n",
    "    return n1-n2\n",
    "\n",
    "def multiplica(n1,n2):\n",
    "    return n1*n2\n",
    "\n",
    "def divide(n1,n2):\n",
    "    return n1/n2"
   ]
  },
  {
   "cell_type": "code",
   "execution_count": 2,
   "metadata": {},
   "outputs": [
    {
     "name": "stdout",
     "output_type": "stream",
     "text": [
      "+======================+\n",
      "|   Menu de operações  |\n",
      "| 1 - somar            |\n",
      "| 2 - subtrair         |\n",
      "| 3 - multiplicar      |\n",
      "| 4 - dividir          |\n",
      "| o - sair             |\n",
      "+======================+\n",
      "O resultado é:  15\n"
     ]
    }
   ],
   "source": [
    "while True:\n",
    "    print(\"+======================+\")\n",
    "    print(\"|   Menu de operações  |\")\n",
    "    print(\"| 1 - somar            |\")\n",
    "    print(\"| 2 - subtrair         |\")\n",
    "    print(\"| 3 - multiplicar      |\")\n",
    "    print(\"| 4 - dividir          |\")\n",
    "    print(\"| o - sair             |\")\n",
    "    print(\"+======================+\")\n",
    "\n",
    "    op = int(input())\n",
    "    if op==0:\n",
    "        break\n",
    "\n",
    "    n1 = int(input(\"Primeiro número: \"))\n",
    "    n2 = int(input(\"Segundo número: \"))\n",
    "\n",
    "    if op==1:\n",
    "        print(\"O resultado é: \", soma(n1,n2))\n",
    "        break\n",
    "    elif op==2:\n",
    "        print(\"O resultado é: \", subtrai(n1,n2)) \n",
    "        break\n",
    "    elif op==3:\n",
    "        print(\"O resultado é: \", multiplica(n1,n2))\n",
    "        break\n",
    "    elif op==4:\n",
    "        print(\"O resultado é: \", divide(n1,n2))   \n",
    "        break\n"
   ]
  }
 ],
 "metadata": {
  "kernelspec": {
   "display_name": "Python 3",
   "language": "python",
   "name": "python3"
  },
  "language_info": {
   "codemirror_mode": {
    "name": "ipython",
    "version": 3
   },
   "file_extension": ".py",
   "mimetype": "text/x-python",
   "name": "python",
   "nbconvert_exporter": "python",
   "pygments_lexer": "ipython3",
   "version": "3.12.2"
  }
 },
 "nbformat": 4,
 "nbformat_minor": 2
}
