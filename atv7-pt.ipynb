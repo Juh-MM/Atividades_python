{
 "cells": [
  {
   "cell_type": "code",
   "execution_count": 1,
   "metadata": {},
   "outputs": [
    {
     "ename": "SyntaxError",
     "evalue": "'(' was never closed (2784875154.py, line 2)",
     "output_type": "error",
     "traceback": [
      "\u001b[1;36m  Cell \u001b[1;32mIn[1], line 2\u001b[1;36m\u001b[0m\n\u001b[1;33m    p= str(input('digite o nome do produto:')\u001b[0m\n\u001b[1;37m          ^\u001b[0m\n\u001b[1;31mSyntaxError\u001b[0m\u001b[1;31m:\u001b[0m '(' was never closed\n"
     ]
    }
   ],
   "source": [
    "for produto in range(0,4):\n",
    "    p= str(input('digite o nome do produto:')\n",
    "    v= float(input('digite o valor do produto:'))"
   ]
  },
  {
   "cell_type": "code",
   "execution_count": null,
   "metadata": {},
   "outputs": [],
   "source": [
    "for element in [1,2,3,4,5,6]:\n",
    "    print('estamos no elemento ', element)"
   ]
  },
  {
   "cell_type": "code",
   "execution_count": null,
   "metadata": {},
   "outputs": [],
   "source": [
    "for element in 'string':\n",
    "    print('estamos no elemento ', element)"
   ]
  },
  {
   "cell_type": "code",
   "execution_count": null,
   "metadata": {},
   "outputs": [],
   "source": [
    "for element in range(len('string')):\n",
    "    print('estamos no elemento ', element)"
   ]
  },
  {
   "cell_type": "code",
   "execution_count": null,
   "metadata": {},
   "outputs": [],
   "source": [
    "produto = 0\n",
    "while produto < 4:\n",
    "  p= str(input('digite o nome do produto:'))\n",
    "  v= float(input('digite o valor do produto:'))\n",
    "  produto += 1"
   ]
  },
  {
   "cell_type": "code",
   "execution_count": null,
   "metadata": {},
   "outputs": [],
   "source": [
    "elemento = 0"
   ]
  },
  {
   "cell_type": "code",
   "execution_count": null,
   "metadata": {},
   "outputs": [],
   "source": [
    "while elemento <= len([1,2,3,4,5,6]):\n",
    "     print('estamos no elemento', elemento)\n",
    "     elemento +=1 #evita loop eterno  'encremento'"
   ]
  },
  {
   "cell_type": "code",
   "execution_count": null,
   "metadata": {},
   "outputs": [],
   "source": [
    "s = 'string'\n",
    "indice = 0\n",
    "\n",
    "while indice in range (len (s)):\n",
    "    print('estamos no elemento', s[indice])\n",
    "    indice +=1"
   ]
  },
  {
   "cell_type": "code",
   "execution_count": null,
   "metadata": {},
   "outputs": [],
   "source": [
    "#while e for servem para a mesma coisa\n",
    "#while é para quando nao sabemos quantas vezes vai se repitir "
   ]
  },
  {
   "cell_type": "code",
   "execution_count": null,
   "metadata": {},
   "outputs": [],
   "source": [
    "palavra='tranquilo'\n",
    "for indice, letra in enumerate(palavra):\n",
    "  print(indice, letra)"
   ]
  },
  {
   "cell_type": "code",
   "execution_count": null,
   "metadata": {},
   "outputs": [],
   "source": [
    "lista=['eat', 'sleep', 'repeat'] \n",
    "palavra='geek'\n",
    "objeto1= enumerate(lista)\n",
    "objeto2= enumerate(palavra)\n",
    "print('tipo: ', type(objeto1))\n",
    "print(list(enumerate(lista)))"
   ]
  },
  {
   "cell_type": "code",
   "execution_count": null,
   "metadata": {},
   "outputs": [],
   "source": [
    "print(list(enumerate (palavra, 2)))"
   ]
  },
  {
   "cell_type": "code",
   "execution_count": null,
   "metadata": {},
   "outputs": [],
   "source": [
    "s = 'viva o python'\n",
    "for ch in s:\n",
    "    print('oi')"
   ]
  },
  {
   "cell_type": "code",
   "execution_count": null,
   "metadata": {},
   "outputs": [],
   "source": [
    "s = 'viva o python'\n",
    "for ch in s[3:8]:\n",
    "    print('oi')"
   ]
  },
  {
   "cell_type": "code",
   "execution_count": null,
   "metadata": {},
   "outputs": [],
   "source": [
    "\n",
    "contador = 0\n",
    " \n",
    "Impar = 0\n",
    "Par = 0\n",
    " \n",
    "for i in range(10):\n",
    "    numero = int(input('Digite um número'))\n",
    "    if (numero % 2 == 0):\n",
    "        Par += 1\n",
    "    else:\n",
    "        Impar += 1\n",
    " \n",
    "print(f'a quantidade numeros  impares foi {Impar}')\n",
    "print(f'a quantidade numeros pares foi {Par}')"
   ]
  },
  {
   "cell_type": "code",
   "execution_count": null,
   "metadata": {},
   "outputs": [],
   "source": []
  },
  {
   "cell_type": "code",
   "execution_count": null,
   "metadata": {},
   "outputs": [],
   "source": []
  }
 ],
 "metadata": {
  "kernelspec": {
   "display_name": "Python 3",
   "language": "python",
   "name": "python3"
  },
  "language_info": {
   "codemirror_mode": {
    "name": "ipython",
    "version": 3
   },
   "file_extension": ".py",
   "mimetype": "text/x-python",
   "name": "python",
   "nbconvert_exporter": "python",
   "pygments_lexer": "ipython3",
   "version": "3.12.2"
  }
 },
 "nbformat": 4,
 "nbformat_minor": 2
}
