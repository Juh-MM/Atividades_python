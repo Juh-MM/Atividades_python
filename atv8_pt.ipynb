{
 "cells": [
  {
   "cell_type": "code",
   "execution_count": 49,
   "metadata": {},
   "outputs": [
    {
     "name": "stdout",
     "output_type": "stream",
     "text": [
      "5  patinhos foram passear alem das montanhas para brincar, a mamãe falou 'QUA' mas 4 patinhos voltaram de lá\n",
      "4  patinhos foram passear alem das montanhas para brincar, a mamãe falou 'QUA' mas 3 patinhos voltaram de lá\n",
      "3  patinhos foram passear alem das montanhas para brincar, a mamãe falou 'QUA' mas 2 patinhos voltaram de lá\n",
      "2  patinhos foram passear alem das montanhas para brincar, a mamãe falou 'QUA' mas 1 patinhos voltaram de lá\n",
      "1  patinho foi passear alem das montanhas para brincar, a mamãe falou 'QUA' mas 0 patinho voltou de lá\n"
     ]
    }
   ],
   "source": [
    "for patinhos in [5,4,3,2,1]:\n",
    "   if patinhos>1:\n",
    "      print(patinhos ,\" patinhos foram passear alem das montanhas para brincar, a mamãe falou 'QUA' mas\", patinhos-1, \"patinhos voltaram de lá\")\n",
    "   else:\n",
    "   print(patinhos ,\" patinho foi passear alem das montanhas para brincar, a mamãe falou 'QUA' mas\", patinhos-1, \"patinho voltou de lá\")\n"
   ]
  },
  {
   "cell_type": "code",
   "execution_count": 1,
   "metadata": {},
   "outputs": [
    {
     "name": "stdout",
     "output_type": "stream",
     "text": [
      "1 elefante incomoda muita gente\n",
      "2 incomodam incomodam incomodam  muito mais\n",
      "3 elefantes incomoda muita gente\n",
      "4 incomodam incomodam incomodam incomodam incomodam  muito mais\n",
      "5 elefantes incomoda muita gente\n",
      "6 incomodam incomodam incomodam incomodam incomodam incomodam incomodam  muito mais\n",
      "7 elefantes incomoda muita gente\n",
      "8 incomodam incomodam incomodam incomodam incomodam incomodam incomodam incomodam incomodam  muito mais\n",
      "9 elefantes incomoda muita gente\n",
      "10 incomodam incomodam incomodam incomodam incomodam incomodam incomodam incomodam incomodam incomodam incomodam  muito mais\n"
     ]
    }
   ],
   "source": [
    "for elefante in [1,2,3,4,5,6,7,8,9,10]:\n",
    " repete = \"incomodam \"\n",
    " if elefante %2 ==0:\n",
    "  print(elefante, \"incomodam\", repete * elefante, \"muito mais\")\n",
    " elif elefante ==1:\n",
    "  print(elefante, \"elefante incomoda muita gente\")\n",
    " else:\n",
    "  print(elefante, \"elefantes incomoda muita gente\")"
   ]
  },
  {
   "cell_type": "code",
   "execution_count": 1,
   "metadata": {},
   "outputs": [
    {
     "name": "stdout",
     "output_type": "stream",
     "text": [
      "10 elefantes incomodam muita gente\n",
      "9 incomodam incomodam incomodam incomodam incomodam incomodam incomodam incomodam incomodam incomodam  muito menos\n",
      "8 elefantes incomodam muita gente\n",
      "7 incomodam incomodam incomodam incomodam incomodam incomodam incomodam incomodam  muito menos\n",
      "6 elefantes incomodam muita gente\n",
      "5 incomodam incomodam incomodam incomodam incomodam incomodam  muito menos\n",
      "4 elefantes incomodam muita gente\n",
      "3 incomodam incomodam incomodam incomodam  muito menos\n",
      "2 elefantes incomodam muita gente\n",
      "1 elefante incomoda muito menos\n"
     ]
    }
   ],
   "source": [
    "for elefante in [10,9,8,7,6,5,4,3,2,1]:\n",
    " repete = \"incomodam \"\n",
    " if elefante %2 ==0:\n",
    "  print(elefante, \"elefantes incomodam muita gente\")\n",
    " elif elefante ==1:\n",
    "  print(elefante, \"elefante incomoda muito menos\")\n",
    " else:\n",
    "  print(elefante, \"incomodam\", repete * elefante, \"muito menos\")"
   ]
  },
  {
   "cell_type": "code",
   "execution_count": 47,
   "metadata": {},
   "outputs": [
    {
     "name": "stdout",
     "output_type": "stream",
     "text": [
      "Mariana conta 1 é 1 é ana, viva a mariana\n",
      "Mariana conta 2 é (1, 2) é ana, viva a mariana\n",
      "Mariana conta 3 é (1, 2, 3) é ana, viva a mariana\n",
      "Mariana conta 4 é (1, 2, 3, 4) é ana, viva a mariana\n",
      "Mariana conta 5 é (1, 2, 3, 4, 5) é ana, viva a mariana\n",
      "Mariana conta 6 é (1, 2, 3, 4, 5, 6) é ana, viva a mariana\n",
      "Mariana conta 7 é (1, 2, 3, 4, 5, 6, 7) é ana, viva a mariana\n",
      "Mariana conta 8 é (1, 2, 3, 4, 5, 6, 7, 8) é ana, viva a mariana\n",
      "Mariana conta 9 é (1, 2, 3, 4, 5, 6, 7, 8, 9) é ana, viva a mariana\n",
      "Mariana conta 10 é (1, 2, 3, 4, 5, 6, 7, 8, 9, 10) é ana, viva a mariana\n"
     ]
    }
   ],
   "source": [
    "numero= (1,2,3,4,5,6,7,8,9,10)\n",
    "for n in numero:\n",
    "    if n ==1:\n",
    "        print(\"Mariana conta\", n, \"é\", n, \"é ana, viva a mariana\")\n",
    "    else:\n",
    "        print(\"Mariana conta\", n, \"é\", numero[0:n], \"é ana, viva a mariana\")"
   ]
  },
  {
   "cell_type": "code",
   "execution_count": null,
   "metadata": {},
   "outputs": [],
   "source": [
    "\n",
    " "
   ]
  }
 ],
 "metadata": {
  "kernelspec": {
   "display_name": "Python 3",
   "language": "python",
   "name": "python3"
  },
  "language_info": {
   "codemirror_mode": {
    "name": "ipython",
    "version": 3
   },
   "file_extension": ".py",
   "mimetype": "text/x-python",
   "name": "python",
   "nbconvert_exporter": "python",
   "pygments_lexer": "ipython3",
   "version": "3.12.2"
  }
 },
 "nbformat": 4,
 "nbformat_minor": 2
}
