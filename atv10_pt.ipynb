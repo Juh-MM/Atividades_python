{
  "cells": [
    {
      "cell_type": "code",
      "source": [
        "\n",
        "class animal():\n",
        "    #construtor da classe\n",
        "    #no init o underline é duplo\n",
        "    def __init__(self, name, weight, color):\n",
        "    #atributos\n",
        "    #self é uma referência a cada atributo dos objetos\n",
        "      self.nome = name\n",
        "      self.peso = weight\n",
        "      self.corDoPelo = color\n",
        "\n",
        "    def imprimirDados(self):\n",
        "      # (%s) tras o que esta no parênteses para letras \n",
        "      # (\\n) quebra a linha\n",
        "      return(\"Nome: %s \\nPeso: %s \\nCor: %s\"  %(self.nome, self.peso, self.corDoPelo))\n",
        "\n",
        "    def latir (self, barulho):\n",
        "        print(barulho)"
      ],
      "outputs": [],
      "execution_count": 5,
      "metadata": {}
    },
    {
      "cell_type": "code",
      "source": [
        "#instanciamdo um objeto cachorro\n",
        "caozinho = animal(\"lua\", 20, \"preto\")\n",
        "gato = animal(\"Onix\", 5.4, \"cinza\")\n",
        "\n",
        "#chamando o metodo do objeto criado\n",
        "print(caozinho.imprimirDados())\n",
        "caozinho.latir(\"Au, Au!\")\n",
        "\n",
        "print(gato.imprimirDados())\n",
        "gato.latir(\"Miau!\")"
      ],
      "outputs": [
        {
          "output_type": "stream",
          "name": "stdout",
          "text": "Nome: lua \nPeso: 20 \nCor: preto\nAu, Au!\nNome: Onix \nPeso: 5.4 \nCor: cinza\nMiau!\n"
        }
      ],
      "execution_count": 6,
      "metadata": {}
    },
    {
      "cell_type": "code",
      "source": [
        "class Livro():\n",
        "    def __init__(self):\n",
        "        self.titulo = \"o Monge e o Executivo\"\n",
        "        self.isbn = 9988888\n",
        "        print(\"Construtor chamado para criar um objeto dessa classe\")\n",
        "\n",
        "    def imprime(self):\n",
        "        # (%d) é tras o que esta no parênteses para numeros\n",
        "        print(\"Foi criado o livro %s e ISBN %d\" %(self.titulo, self.isbn))"
      ],
      "outputs": [],
      "execution_count": 8,
      "metadata": {}
    },
    {
      "cell_type": "code",
      "source": [
        "#criando uma instancia da classe livro\n",
        "Livro1 = Livro()\n",
        "\n",
        "class Livro():\n",
        "    def __init__(self, titulo, isbn):\n",
        "        self.titulo = titulo\n",
        "        self.isbn = isbn\n",
        "        print(\"Construtor chamado para criar um objeto dessa classe\")\n",
        "\n",
        "    def imprime(self, titulo, isbn):\n",
        "        print(\"Este é o livro %s e ISBN %d\" %(titulo, isbn))\n"
      ],
      "outputs": [
        {
          "output_type": "stream",
          "name": "stdout",
          "text": "Construtor chamado para criar um objeto dessa classe\n"
        }
      ],
      "execution_count": 16,
      "metadata": {}
    },
    {
      "cell_type": "code",
      "source": [
        "Livro2 = Livro(\"A menina que roubava livros\", 7685443462)\n",
        "Livro2.titulo\n"
      ],
      "outputs": [
        {
          "output_type": "stream",
          "name": "stdout",
          "text": "Construtor chamado para criar um objeto dessa classe\n"
        },
        {
          "output_type": "execute_result",
          "execution_count": 17,
          "data": {
            "text/plain": "'A menina que roubava livros'"
          },
          "metadata": {}
        }
      ],
      "execution_count": 17,
      "metadata": {}
    }
  ],
  "metadata": {
    "kernelspec": {
      "display_name": "Python 3",
      "language": "python",
      "name": "python3"
    },
    "language_info": {
      "codemirror_mode": {
        "name": "ipython",
        "version": 3
      },
      "file_extension": ".py",
      "mimetype": "text/x-python",
      "name": "python",
      "nbconvert_exporter": "python",
      "pygments_lexer": "ipython3",
      "version": "3.11.4"
    },
    "nteract": {
      "version": "nteract-front-end@1.0.0"
    }
  },
  "nbformat": 4,
  "nbformat_minor": 2
}